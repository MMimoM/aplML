{
 "cells": [
  {
   "cell_type": "code",
   "execution_count": 1,
   "id": "ea937746",
   "metadata": {},
   "outputs": [
    {
     "data": {
      "text/html": [
       "<span style=\"white-space:pre; font-family: monospace\">C:\\Users\\Mehya\\AppData\\Local\\Programs\\Dyalog\\Dyalog APL-64 18.0 Unicode\\ws\\loaddata.dws saved Tue Dec  1 20:08:22 2020\n",
       "This workspace contains programs to read and write data in and out \n",
       "of the current namespace.  It works only when run in Unicode       \n",
       "interpreters.                                                      \n",
       "                                                                   \n",
       "The programs of interest are:                                      \n",
       "                                                                   \n",
       "LoadSQL  bring in data from an SQL database                        \n",
       "LoadTEXT bring in data from a  CSV file                            \n",
       "LoadXL   bring in data from an Excel file                          \n",
       "LoadXML  bring in data from an XML file                            \n",
       "                                                                   \n",
       "SaveSQL  save data into an SQL database                            \n",
       "SaveTEXT save data into a  CSV file                                \n",
       "SaveXL   save data into an Excel file                              \n",
       "SaveXML  save data into an XML file                                \n",
       "                                                                   \n",
       "See each program's comment for details.                            \n",
       "                                                                   \n",
       "The Excel related functions only run under Windows.  The SQL       \n",
       "functions will require suitable ODBC drivers installed on all      \n",
       "platforms.                                                         \n",
       "                                                                   \n",
       "</span>"
      ]
     },
     "execution_count": 1,
     "metadata": {},
     "output_type": "execute_result"
    },
    {
     "data": {
      "text/html": [
       "<span style=\"white-space:pre; font-family: monospace\">Linked: # ←→ C:\\Users\\Mehya\\OneDrive\\repos\\aplML\\src\n",
       "</span>"
      ]
     },
     "execution_count": 1,
     "metadata": {},
     "output_type": "execute_result"
    }
   ],
   "source": [
    ")load loaddata\n",
    "]LINK.Create # C:\\Users\\Mehya\\OneDrive\\repos\\aplML\\src"
   ]
  },
  {
   "cell_type": "code",
   "execution_count": 2,
   "id": "d1b54135",
   "metadata": {},
   "outputs": [],
   "source": [
    "⍝ Daten Laden \n",
    "daten←LoadXL'C:\\Users\\Mehya\\OneDrive\\repos\\database\\EK_2019_2020'"
   ]
  },
  {
   "cell_type": "code",
   "execution_count": 3,
   "id": "5c4e5d2e",
   "metadata": {},
   "outputs": [
    {
     "data": {
      "text/html": [
       "<span style=\"white-space:pre; font-family: monospace\"> Hersteller  Typ  FIN                Datum    EK \n",
       " Audi        A4   WAUZZZ8E25A545536  43472  1500 \n",
       " Audi        A4   WAUZZZ8E15A514259  43479  2500 \n",
       " Audi        A3   WAUZZZ8VDA080196   43501  8250 \n",
       " Audi        A4   WAUZZZ8K8BA152593  43563  6800 \n",
       " Audi        A3   WAUZZZ8P2AA178116  43601  5600 \n",
       " Audi        A3   WAUZZZ8P1BA109256  43620  4800 \n",
       " Audi        A3   WAUZZZ8P09A065552  43630  2700 \n",
       " Audi        A3   WAUZZZ8LZYA095345  43676   400 \n",
       " Audi        A3   WAUZZZ8P46A044716  43692  2950 \n",
       " Audi        A4   WAUZZZ8E07A279176  43698  1300 \n",
       "</span>"
      ]
     },
     "execution_count": 3,
     "metadata": {},
     "output_type": "execute_result"
    }
   ],
   "source": [
    "s ← data.frame daten\n",
    "s.head 10"
   ]
  },
  {
   "cell_type": "code",
   "execution_count": 5,
   "id": "296318f7",
   "metadata": {},
   "outputs": [
    {
     "data": {
      "text/html": [
       "<span style=\"white-space:pre; font-family: monospace\"> Hersteller  Typ  FIN                Datum    EK \n",
       " Audi        A4   WAUZZZ8E25A545536  43472  1500 \n",
       " Audi        A4   WAUZZZ8E15A514259  43479  2500 \n",
       " Audi        A4   WAUZZZ8K8BA152593  43563  6800 \n",
       " Audi        A4   WAUZZZ8E07A279176  43698  1300 \n",
       " Audi        A4   WAUZZZ8K39A149966  43727  5000 \n",
       " Audi        A4   WUZZZ8K9DA078605   43985  7100 \n",
       "</span>"
      ]
     },
     "execution_count": 5,
     "metadata": {},
     "output_type": "execute_result"
    }
   ],
   "source": [
    "s.show (s.where_eqv 'Hersteller' 'Audi') s.and (s.where_eqv 'Typ' 'A4')"
   ]
  }
 ],
 "metadata": {
  "kernelspec": {
   "display_name": "Dyalog APL",
   "language": "apl",
   "name": "dyalog-kernel"
  },
  "language_info": {
   "file_extension": ".apl",
   "mimetype": "text/apl",
   "name": "APL"
  }
 },
 "nbformat": 4,
 "nbformat_minor": 5
}
