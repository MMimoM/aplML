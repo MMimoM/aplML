{
 "cells": [
  {
   "cell_type": "code",
   "execution_count": 1,
   "id": "ea937746",
   "metadata": {},
   "outputs": [
    {
     "data": {
      "text/html": [
       "<span style=\"white-space:pre; font-family: monospace\">C:\\Users\\Mehya\\AppData\\Local\\Programs\\Dyalog\\Dyalog APL-64 18.0 Unicode\\ws\\loaddata.dws saved Tue Dec  1 20:08:22 2020\n",
       "This workspace contains programs to read and write data in and out \n",
       "of the current namespace.  It works only when run in Unicode       \n",
       "interpreters.                                                      \n",
       "                                                                   \n",
       "The programs of interest are:                                      \n",
       "                                                                   \n",
       "LoadSQL  bring in data from an SQL database                        \n",
       "LoadTEXT bring in data from a  CSV file                            \n",
       "LoadXL   bring in data from an Excel file                          \n",
       "LoadXML  bring in data from an XML file                            \n",
       "                                                                   \n",
       "SaveSQL  save data into an SQL database                            \n",
       "SaveTEXT save data into a  CSV file                                \n",
       "SaveXL   save data into an Excel file                              \n",
       "SaveXML  save data into an XML file                                \n",
       "                                                                   \n",
       "See each program's comment for details.                            \n",
       "                                                                   \n",
       "The Excel related functions only run under Windows.  The SQL       \n",
       "functions will require suitable ODBC drivers installed on all      \n",
       "platforms.                                                         \n",
       "                                                                   \n",
       "</span>"
      ]
     },
     "execution_count": 1,
     "metadata": {},
     "output_type": "execute_result"
    },
    {
     "data": {
      "text/html": [
       "<span style=\"white-space:pre; font-family: monospace\">Linked: # ←→ C:\\Users\\Mehya\\OneDrive\\repos\\aplML\\src\n",
       "</span>"
      ]
     },
     "execution_count": 1,
     "metadata": {},
     "output_type": "execute_result"
    },
    {
     "data": {
      "text/html": [
       "<span style=\"white-space:pre; font-family: monospace\">Linked: #.Utils ←→ C:\\Users\\Mehya\\OneDrive\\repos\\aplML\\utils\n",
       "</span>"
      ]
     },
     "execution_count": 1,
     "metadata": {},
     "output_type": "execute_result"
    },
    {
     "data": {
      "text/html": [
       "<span style=\"white-space:pre; font-family: monospace\">Linked: #.Test ←→ C:\\Users\\Mehya\\OneDrive\\repos\\aplML\\test\n",
       "</span>"
      ]
     },
     "execution_count": 1,
     "metadata": {},
     "output_type": "execute_result"
    }
   ],
   "source": [
    ")load loaddata\n",
    "]LINK.Create # C:\\Users\\Mehya\\OneDrive\\repos\\aplML\\src\n",
    "]LINK.Create Utils C:\\Users\\Mehya\\OneDrive\\repos\\aplML\\utils\n",
    "]LINK.Create Test C:\\Users\\Mehya\\OneDrive\\repos\\aplML\\test"
   ]
  },
  {
   "cell_type": "code",
   "execution_count": 2,
   "id": "d1b54135",
   "metadata": {},
   "outputs": [],
   "source": [
    "⍝ Daten Laden \n",
    "daten←LoadXL'C:\\Users\\Mehya\\OneDrive\\repos\\database\\EK_2019_2020'"
   ]
  },
  {
   "cell_type": "code",
   "execution_count": 5,
   "id": "5c4e5d2e",
   "metadata": {},
   "outputs": [],
   "source": [
    "s ← data.frame daten"
   ]
  },
  {
   "cell_type": "code",
   "execution_count": 7,
   "id": "296318f7",
   "metadata": {},
   "outputs": [
    {
     "data": {
      "text/html": [
       "<span style=\"white-space:pre; font-family: monospace\">┌──────────┬───┬────┐\n",
       "│Hersteller│Typ│EK  │\n",
       "├──────────┼───┼────┤\n",
       "│Audi      │A4 │1500│\n",
       "├──────────┼───┼────┤\n",
       "│Audi      │A4 │2500│\n",
       "├──────────┼───┼────┤\n",
       "│Audi      │A4 │6800│\n",
       "├──────────┼───┼────┤\n",
       "│Audi      │A4 │1300│\n",
       "├──────────┼───┼────┤\n",
       "│Audi      │A4 │5000│\n",
       "├──────────┼───┼────┤\n",
       "│Audi      │A4 │7100│\n",
       "└──────────┴───┴────┘\n",
       "</span>"
      ]
     },
     "execution_count": 7,
     "metadata": {},
     "output_type": "execute_result"
    }
   ],
   "source": [
    "('Hersteller' 'Typ' 'EK') s.show (s.where_eqv 'Hersteller' 'Audi') s.and (s.where_eqv 'Typ' 'A4')"
   ]
  },
  {
   "cell_type": "code",
   "execution_count": null,
   "id": "ab4d5ed2",
   "metadata": {},
   "outputs": [],
   "source": [
    "⍝ Build simple linear regression modell\n",
    "\n",
    "model←⎕NEW nn.Sequential\n",
    "model.add (⎕NEW layer.Linear(5 1 'relu'))\n",
    "opt_params←⎕JSON'{}'\n",
    "opt_params.step_size←0.001\n",
    "opt_params.decay←0\n",
    "1 model.compile('mse' 'sgd' opt_params)"
   ]
  }
 ],
 "metadata": {
  "kernelspec": {
   "display_name": "Dyalog APL",
   "language": "apl",
   "name": "dyalog-kernel"
  },
  "language_info": {
   "file_extension": ".apl",
   "mimetype": "text/apl",
   "name": "APL"
  }
 },
 "nbformat": 4,
 "nbformat_minor": 5
}
